{
 "cells": [
  {
   "cell_type": "code",
   "execution_count": 1,
   "metadata": {},
   "outputs": [
    {
     "name": "stderr",
     "output_type": "stream",
     "text": [
      "/Users/dear/Library/Python/3.9/lib/python/site-packages/urllib3/__init__.py:35: NotOpenSSLWarning: urllib3 v2 only supports OpenSSL 1.1.1+, currently the 'ssl' module is compiled with 'LibreSSL 2.8.3'. See: https://github.com/urllib3/urllib3/issues/3020\n",
      "  warnings.warn(\n"
     ]
    }
   ],
   "source": [
    "import requests\n",
    "import random\n",
    "from datetime import datetime\n",
    "import pandas as pd"
   ]
  },
  {
   "cell_type": "code",
   "execution_count": 2,
   "metadata": {},
   "outputs": [],
   "source": [
    "# Function to parse JSON response\n",
    "def parse_scopus_response(json_response):\n",
    "    entries = []\n",
    "    for entry in json_response.get('search-results', {}).get('entry', []):\n",
    "        cover_date = entry.get('prism:coverDate')\n",
    "        # Ensure cover_date is present and not in the future\n",
    "        if cover_date and datetime.strptime(cover_date, \"%Y-%m-%d\").date() <= datetime.now().date():\n",
    "            article = {\n",
    "                'title': entry.get('dc:title'),\n",
    "                'author': entry.get('dc:creator'),\n",
    "                'publicationName': entry.get('prism:publicationName'),\n",
    "                # 'volume': entry.get('prism:volume'),\n",
    "                'cover_date': cover_date,\n",
    "                # 'doi': entry.get('prism:doi'),\n",
    "                'scopus_id': entry.get('dc:identifier'),\n",
    "                'cited_by_count': entry.get('citedby-count'),\n",
    "                'open_access': entry.get('openaccessFlag')\n",
    "            }\n",
    "            entries.append(article)\n",
    "    return entries\n"
   ]
  },
  {
   "cell_type": "code",
   "execution_count": 3,
   "metadata": {},
   "outputs": [],
   "source": [
    "# Function to fetch data from Scopus API with pagination\n",
    "def fetch_scopus_data(api_key, query, max_records=1000, count=25):\n",
    "    base_url = \"https://api.elsevier.com/content/search/scopus\"\n",
    "    all_entries = []\n",
    "    start_index = 0\n",
    "\n",
    "    while len(all_entries) < max_records:\n",
    "        params = {\n",
    "            'query': query,\n",
    "            'start': start_index,\n",
    "            'count': count,\n",
    "            'apiKey': api_key\n",
    "        }\n",
    "        headers = {'Accept': 'application/json'}\n",
    "        response = requests.get(base_url, headers=headers, params=params)\n",
    "\n",
    "        if response.status_code == 200:\n",
    "            json_response = response.json()\n",
    "            articles = parse_scopus_response(json_response)\n",
    "            if not articles:\n",
    "                print(\"No more articles found or all articles have future dates.\")\n",
    "                break  # Stop if no articles are found in the response\n",
    "            all_entries.extend(articles)\n",
    "            start_index += count\n",
    "        else:\n",
    "            print(f\"Error: {response.status_code} - {response.text}\")\n",
    "            break\n",
    "\n",
    "        # Avoid exceeding the total max_records\n",
    "        if len(all_entries) >= max_records:\n",
    "            all_entries = all_entries[:max_records]\n",
    "            break\n",
    "\n",
    "    return all_entries"
   ]
  },
  {
   "cell_type": "code",
   "execution_count": 4,
   "metadata": {},
   "outputs": [],
   "source": [
    "# Function to randomly pick articles\n",
    "def pick_random_articles(articles, total=1000):\n",
    "    if len(articles) < total:\n",
    "        print(f\"Warning: Only {len(articles)} articles available. Returning all.\")\n",
    "        return articles\n",
    "    return random.sample(articles, total)"
   ]
  },
  {
   "cell_type": "code",
   "execution_count": 5,
   "metadata": {},
   "outputs": [
    {
     "name": "stdout",
     "output_type": "stream",
     "text": [
      "                                               title        author  \\\n",
      "0  Emerging Trends in Data Science and Big Data A...   Nageye A.Y.   \n",
      "1  Applications of Data Science and Artificial In...    Costa C.J.   \n",
      "2      Advancing Social Justice through Data Science    Bartucz J.   \n",
      "3  Data-science-guided calibration curve predicti...   Howard J.R.   \n",
      "4  Constraint-Driven Complexity-Aware Data Scienc...  Siriweera A.   \n",
      "\n",
      "                                     publicationName  cover_date  \\\n",
      "0  SSRG International Journal of Electronics and ...  2024-05-01   \n",
      "1                     Applied Sciences (Switzerland)  2023-08-01   \n",
      "2  SIGCSE 2024 - Proceedings of the 55th ACM Tech...  2024-03-14   \n",
      "3                                               Chem  2024-07-11   \n",
      "4                      IEEE Transactions on Big Data  2023-12-01   \n",
      "\n",
      "               scopus_id cited_by_count  open_access  \n",
      "0  SCOPUS_ID:85196083856              0         True  \n",
      "1  SCOPUS_ID:85167914055              2         True  \n",
      "2  SCOPUS_ID:85189137291              0        False  \n",
      "3  SCOPUS_ID:85197056209              2        False  \n",
      "4  SCOPUS_ID:85151331359              2        False  \n"
     ]
    }
   ],
   "source": [
    "# Main script\n",
    "if __name__ == \"__main__\":\n",
    "    API_KEY = \"c8690de363626d560cf56cc17f9369d6\"  # Replace with your Scopus API key\n",
    "    QUERY = 'TITLE(\"data science\")'\n",
    "    TOTAL_ARTICLES = 1000\n",
    "\n",
    "    # Fetch data from API\n",
    "    articles = fetch_scopus_data(API_KEY, QUERY, max_records=TOTAL_ARTICLES)\n",
    "\n",
    "    # Randomly pick 1000 articles (or fewer if total articles are less than 1000)\n",
    "    selected_articles = pick_random_articles(articles, total=TOTAL_ARTICLES)\n",
    "\n",
    "    df = pd.DataFrame(selected_articles)\n",
    "    print(df.head())  "
   ]
  },
  {
   "cell_type": "code",
   "execution_count": 6,
   "metadata": {},
   "outputs": [
    {
     "data": {
      "text/plain": [
       "(1000, 7)"
      ]
     },
     "execution_count": 6,
     "metadata": {},
     "output_type": "execute_result"
    }
   ],
   "source": [
    "df.shape"
   ]
  }
 ],
 "metadata": {
  "kernelspec": {
   "display_name": "Python 3",
   "language": "python",
   "name": "python3"
  },
  "language_info": {
   "codemirror_mode": {
    "name": "ipython",
    "version": 3
   },
   "file_extension": ".py",
   "mimetype": "text/x-python",
   "name": "python",
   "nbconvert_exporter": "python",
   "pygments_lexer": "ipython3",
   "version": "3.9.6"
  }
 },
 "nbformat": 4,
 "nbformat_minor": 2
}
