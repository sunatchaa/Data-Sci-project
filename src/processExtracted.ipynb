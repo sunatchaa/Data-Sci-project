{
 "cells": [
  {
   "cell_type": "code",
   "execution_count": 21,
   "metadata": {},
   "outputs": [
    {
     "name": "stdout",
     "output_type": "stream",
     "text": [
      "(340,)\n",
      "(20216, 10)\n"
     ]
    }
   ],
   "source": [
    "import pandas as pd\n",
    "\n",
    "# Load CSV into DataFrame\n",
    "df = pd.read_csv('C:/Users/PangSunatcha/OneDrive - Chulalongkorn University/Documents/Y2S1 files/Data Sci/proj/Data-Sci-project/localresults/extracted_data.csv')\n",
    "\n",
    "subject_list = df['Subject Areas'].str.split(',').explode().str.strip()\n",
    "\n",
    "# Count the occurrences of each subject area\n",
    "subject_counts = subject_list.value_counts()\n",
    "\n",
    "# Display the result\n",
    "print(subject_counts.shape)\n",
    "print(df.shape)\n",
    "\n",
    "keyword = r\"\\(all\\)\"\n",
    "main_counts = subject_counts[subject_counts.index.str.contains(keyword, case=True)]\n",
    "sub_counts = subject_counts[~subject_counts.index.str.contains(keyword, case=True)]\n",
    "\n",
    "# Display the result\n"
   ]
  },
  {
   "cell_type": "code",
   "execution_count": 22,
   "metadata": {},
   "outputs": [
    {
     "name": "stdout",
     "output_type": "stream",
     "text": [
      "Subject Areas\n",
      "Agricultural and Biological Sciences (all)    229\n",
      "Arts and Humanities (all)                      94\n",
      "Chemical Engineering (all)                    755\n",
      "Chemistry (all)                               905\n",
      "Computer Science (all)                        229\n",
      "Decision Sciences (all)                         4\n",
      "Dentistry (all)                               296\n",
      "Earth and Planetary Sciences (all)            146\n",
      "Econometrics and Finance (all)                144\n",
      "Energy (all)                                  179\n",
      "Engineering (all)                             635\n",
      "Environmental Science (all)                   375\n",
      "Genetics and Molecular Biology (all)          392\n",
      "Health Professions (all)                        9\n",
      "Immunology and Microbiology (all)             186\n",
      "Management and Accounting (all)               120\n",
      "Materials Science (all)                       907\n",
      "Mathematics (all)                             147\n",
      "Medicine (all)                                680\n",
      "Neuroscience (all)                            132\n",
      "Nursing (all)                                  92\n",
      "Physics and Astronomy (all)                   405\n",
      "Psychology (all)                               66\n",
      "Social Sciences (all)                         248\n",
      "Toxicology and Pharmaceutics (all)            100\n",
      "Veterinary (all)                              507\n",
      "Name: count, dtype: int64 7982\n"
     ]
    }
   ],
   "source": [
    "print(main_counts.sort_index().head(30), main_counts.sum())"
   ]
  },
  {
   "cell_type": "code",
   "execution_count": null,
   "metadata": {},
   "outputs": [],
   "source": [
    "print(sub_counts.head(20), sub_counts.shape)"
   ]
  },
  {
   "cell_type": "code",
   "execution_count": 28,
   "metadata": {},
   "outputs": [],
   "source": [
    "subject_counts_df = main_counts.reset_index()\n",
    "subject_counts_df.columns = ['mainsubj', 'Count']\n",
    "subject_counts_df.to_csv('main_subject_counts.csv', index=False)\n"
   ]
  },
  {
   "cell_type": "code",
   "execution_count": 29,
   "metadata": {},
   "outputs": [],
   "source": [
    "subject_counts_df = sub_counts.reset_index()\n",
    "subject_counts_df.columns = ['subsubj', 'Count']\n",
    "subject_counts_df.to_csv('sub_subject_counts.csv', index=False)"
   ]
  },
  {
   "cell_type": "code",
   "execution_count": 30,
   "metadata": {},
   "outputs": [],
   "source": [
    "subject_mapping = {\n",
    "    'Materials Science (all)': [\n",
    "        'Materials Chemistry', 'Mechanics of Materials', 'Metals and Alloys', 'Polymers and Plastics', 'Materials Science (miscellaneous)', 'Ceramics and Composites'\n",
    "    ],\n",
    "    'Chemistry (all)': [\n",
    "        'Organic Chemistry', 'Physical and Theoretical Chemistry', 'Analytical Chemistry', 'Inorganic Chemistry', 'Chemical Health and Safety', 'Colloid and Surface Chemistry'\n",
    "    ],\n",
    "    'Chemical Engineering (all)': [\n",
    "        'Process Chemistry and Technology', 'Catalysis', 'Pharmaceutical Science', 'Chemical Engineering (miscellaneous)', 'Fuel Technology', 'Bioengineering'\n",
    "    ],\n",
    "    'Medicine (all)': [\n",
    "        'Medicine (miscellaneous)', 'Surgery', 'Pediatrics', 'Oncology', 'Gastroenterology', 'Cardiology and Cardiovascular Medicine', 'Internal Medicine', 'Obstetrics and Gynecology',\n",
    "        'Neurology', 'Ophthalmology', 'Hepatology', 'Anesthesiology and Pain Medicine', 'Radiology', 'Radiological and Ultrasound Technology', 'Transplantation', 'Orthodontics',\n",
    "        'Periodontics', 'Podiatry', 'Emergency Medicine', 'Neuroscience (miscellaneous)', 'Physiology (medical)', 'Clinical Biochemistry', 'Biochemistry (medical)', 'Health Professions (miscellaneous)',\n",
    "        'Psychiatric Mental Health', 'Pediatrics', 'Neuropsychology and Physiological Psychology', 'Toxicology and Mutagenesis', 'Rheumatology', 'Endocrinology'\n",
    "    ],\n",
    "    'Engineering (all)': [\n",
    "        'Mechanical Engineering', 'Electrical and Electronic Engineering', 'Industrial and Manufacturing Engineering', 'Civil and Structural Engineering', 'Aerospace Engineering',\n",
    "        'Geotechnical Engineering and Engineering Geology', 'Environmental Engineering', 'Engineering (miscellaneous)', 'Control and Systems Engineering', 'Biomedical Engineering',\n",
    "        'Nuclear Energy and Engineering', 'Energy Engineering and Power Technology', 'Energy Engineering', 'Materials Engineering'\n",
    "    ],\n",
    "    'Veterinary (all)': [\n",
    "        'Veterinary (miscellaneous)', 'Animal Science and Zoology', 'Food Animals', 'Veterinary Science'\n",
    "    ],\n",
    "    'Physics and Astronomy (all)': [\n",
    "        'Condensed Matter Physics', 'Atomic and Molecular Physics', 'Nuclear and High Energy Physics', 'Optical and Magnetic Materials', 'Theoretical Physics', 'Astronomy and Astrophysics'\n",
    "    ],\n",
    "    'Genetics and Molecular Biology (all)': [\n",
    "        'Genetics', 'Molecular Biology', 'Genetics (clinical)', 'Molecular Medicine', 'Genomics', 'Genetics and Molecular Biology (miscellaneous)', 'Cell Biology'\n",
    "    ],\n",
    "    'Environmental Science (all)': [\n",
    "        'Sustainability and the Environment', 'Pollution', 'Environmental Chemistry', 'Energy', 'Climate Change', 'Environmental Science (miscellaneous)', 'Ecology', 'Renewable Energy'\n",
    "    ],\n",
    "    'Dentistry (all)': [\n",
    "        'Oral Surgery', 'Periodontics', 'Dental Hygiene', 'Dentistry (miscellaneous)', 'Pediatric Dentistry'\n",
    "    ],\n",
    "    'Social Sciences (all)': [\n",
    "        'Economics', 'Political Science', 'Sociology', 'Anthropology', 'Geography', 'Psychology', 'Public Administration', 'Management', 'Social Psychology', 'Urban Studies',\n",
    "        'Gender Studies', 'Social Sciences (miscellaneous)', 'Law', 'Education', 'Organizational Behavior and Human Resource Management', 'Policy and Law', 'Cultural Studies', 'Behavioral Neuroscience'\n",
    "    ],\n",
    "    'Computer Science (all)': [\n",
    "        'Artificial Intelligence', 'Software', 'Computer Networks and Communications', 'Computer Science Applications', 'Human-Computer Interaction', 'Cybersecurity', 'Cloud Computing',\n",
    "        'Computer Vision and Pattern Recognition', 'Information Systems', 'Computer Graphics and Computer-Aided Design', 'Computational Mathematics', 'Computational Theory and Mathematics'\n",
    "    ],\n",
    "    'Agricultural and Biological Sciences (all)': [\n",
    "        'Agronomy and Crop Science', 'Animal Science and Zoology', 'Food Science', 'Biotechnology', 'Agricultural and Biological Sciences (miscellaneous)', 'Ecological Modeling'\n",
    "    ],\n",
    "    'Immunology and Microbiology (all)': [\n",
    "        'Immunology', 'Microbiology', 'Infectious Diseases', 'Immunology and Allergy', 'Immunology and Microbiology (miscellaneous)'\n",
    "    ],\n",
    "    'Energy (all)': [\n",
    "        'Energy Engineering', 'Renewable Energy', 'Energy (miscellaneous)', 'Fuel Technology', 'Energy Engineering and Power Technology'\n",
    "    ],\n",
    "    'Mathematics (all)': [\n",
    "        'Statistics', 'Numerical Analysis', 'Mathematics (miscellaneous)', 'Mathematical Physics', 'Probability and Uncertainty', 'Algebra and Number Theory'\n",
    "    ],\n",
    "    'Earth and Planetary Sciences (all)': [\n",
    "        'Geophysics', 'Oceanography', 'Earth-Surface Processes', 'Space and Planetary Science'\n",
    "    ],\n",
    "    'Econometrics and Finance (all)': [\n",
    "        'Econometrics', 'Finance', 'Economics', 'Accounting', 'Financial Economics', 'Investment and Portfolio Management'\n",
    "    ],\n",
    "    'Neuroscience (all)': [\n",
    "        'Neuroscience', 'Neurology', 'Neuropsychology and Physiological Psychology', 'Cognitive Neuroscience', 'Biological Psychiatry', 'Cellular and Molecular Neuroscience', 'Developmental Neuroscience'\n",
    "    ],\n",
    "    'Management and Accounting (all)': [\n",
    "        'Management', 'Accounting', 'Marketing', 'Finance', 'Strategy and Management', 'Organizational Behavior', 'Human Resource Management', 'Management Information Systems', 'Business'\n",
    "    ],\n",
    "    'Toxicology and Pharmaceutics (all)': [\n",
    "        'Pharmacology', 'Toxicology', 'Drug Discovery', 'Pharmaceutical Science', 'Pharmacology (medical)', 'Toxicology and Mutagenesis'\n",
    "    ],\n",
    "    'Arts and Humanities (all)': [\n",
    "        'Philosophy', 'History', 'Linguistics and Language', 'Cultural Studies', 'Religious Studies', 'Literature and Literary Theory', 'Visual Arts and Performing Arts'\n",
    "    ],\n",
    "    'Nursing (all)': [\n",
    "        'Advanced and Specialized Nursing', 'Critical Care and Intensive Care Medicine', 'Psychiatric Nursing', 'Emergency Nursing', 'Clinical Nursing', 'Nursing (miscellaneous)', 'Pediatric Nursing'\n",
    "    ],\n",
    "    'Psychology (all)': [\n",
    "        'Cognitive Neuroscience', 'Clinical Psychology', 'Behavioral Neuroscience', 'Developmental Psychology', 'Social Psychology', 'Experimental Psychology', 'Neuropsychology', 'Applied Psychology'\n",
    "    ],\n",
    "    'Health Professions (all)': [\n",
    "        'Health Policy', 'Public Health', 'Nursing', 'Health Information Management', 'Health Economics'\n",
    "    ],\n",
    "    'Decision Sciences (all)': [\n",
    "        'Operations Research', 'Decision Support Systems', 'Management Science', 'Risk Analysis', 'Optimization', 'Systems Engineering'\n",
    "    ]\n",
    "}\n",
    "\n",
    "# List of subject areas that cannot be mapped to the main subjects\n",
    "unmapped_subjects = [\n",
    "    'Multidisciplinary', 'Biochemistry', 'Infectious Diseases', 'Computer Science Applications', 'Electrical and Electronic Engineering', \n",
    "    'Computer Networks and Communications', 'Public Health', 'Environmental and Occupational Health', 'Renewable Energy', 'Sustainability and the Environment', \n",
    "    'Pharmacology', 'Organic Chemistry', 'Ecology', 'Energy Engineering and Power Technology', 'Materials Chemistry', 'Condensed Matter Physics', 'Molecular Biology', \n",
    "    'Physical and Theoretical Chemistry', 'Analytical Chemistry', 'Artificial Intelligence', 'Mechanics of Materials', 'Pharmaceutical Science', 'Polymers and Plastics', \n",
    "    'Mechanical Engineering', 'Behavior and Systematics', 'Evolution', 'Nuclear and High Energy Physics', 'Immunology', 'Food Science', 'Drug Discovery', 'Pollution', \n",
    "    'Environmental Engineering', 'Animal Science and Zoology', 'Education', 'Environmental Chemistry', 'Instrumentation', 'Molecular Medicine', 'Surgery', 'Software', \n",
    "    'Biotechnology', 'Fuel Technology', 'Information Systems', 'Catalysis', 'Plant Science', 'Computer Vision and Pattern Recognition', 'Microbiology', 'Neurology (clinical)', \n",
    "    'Pharmacology (medical)', 'Immunology and Allergy', 'Optical and Magnetic Materials', 'Electronic', 'Waste Management and Disposal', 'Civil and Structural Engineering', \n",
    "    'Policy and Law', 'Monitoring', 'Management', 'Geography', 'Planning and Development', 'Building and Construction', 'Hardware and Architecture', 'Industrial and Manufacturing Engineering', \n",
    "    'Oncology', 'Microbiology (medical)', 'Aquatic Science', 'Gastroenterology', 'Genetics', 'Health Policy', 'Engineering (miscellaneous)', 'Information Systems and Management', \n",
    "    'Nuclear Medicine and Imaging', 'Process Chemistry and Technology', 'Radiology', 'Spectroscopy', 'Coatings and Films', 'Surfaces', 'Control and Optimization', 'Bioengineering', \n",
    "    'Health', 'Human-Computer Interaction', 'Pediatrics', 'Toxicology and Mutagenesis', 'Strategy and Management', 'Cancer Research', 'Endocrinology', 'Economics and Econometrics', \n",
    "    'Perinatology and Child Health', 'Neurology', 'Biomedical Engineering', 'Psychiatry and Mental Health', 'Safety', 'Reliability and Quality', 'Risk', \n",
    "    'Geotechnical Engineering and Engineering Geology',\n",
    "]"
   ]
  },
  {
   "cell_type": "code",
   "execution_count": 31,
   "metadata": {},
   "outputs": [
    {
     "name": "stdout",
     "output_type": "stream",
     "text": [
      "302\n"
     ]
    }
   ],
   "source": [
    "count = 0\n",
    "for i in subject_mapping:\n",
    "    count += len(subject_mapping[i])\n",
    "print (count+len(unmapped_subjects))"
   ]
  }
 ],
 "metadata": {
  "kernelspec": {
   "display_name": "DSenv",
   "language": "python",
   "name": "python3"
  },
  "language_info": {
   "codemirror_mode": {
    "name": "ipython",
    "version": 3
   },
   "file_extension": ".py",
   "mimetype": "text/x-python",
   "name": "python",
   "nbconvert_exporter": "python",
   "pygments_lexer": "ipython3",
   "version": "3.12.7"
  }
 },
 "nbformat": 4,
 "nbformat_minor": 2
}
