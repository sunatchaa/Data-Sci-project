{
 "cells": [
  {
   "cell_type": "code",
   "execution_count": 24,
   "metadata": {},
   "outputs": [],
   "source": [
    "from sklearn.model_selection import train_test_split\n",
    "import pandas as pd"
   ]
  },
  {
   "cell_type": "code",
   "execution_count": 28,
   "metadata": {},
   "outputs": [
    {
     "data": {
      "text/plain": [
       "0        ['recent', 'developments', 'bifunctional', 'ai...\n",
       "1        ['benefit', 'punishment', 'sensitivity', 'moto...\n",
       "2        ['magic', 'biomarkers', 'predict', 'longterm',...\n",
       "3        ['endocrine', 'disrupting', 'compounds', 'envi...\n",
       "4        ['probabilistic', 'regular', 'grammar', 'infer...\n",
       "                               ...                        \n",
       "20211    ['prediction', 'diagnosis', 'chronic', 'kidney...\n",
       "20212    ['incidence', 'healthcareassociated', 'urinary...\n",
       "20213    ['turmericloaded', 'alginate', 'particulatebas...\n",
       "20214    ['identification', 'novel', 'gut', 'microbiota...\n",
       "20215    ['effectiveness', '1', '2per', 'cent', 'acetic...\n",
       "Name: Processed Words, Length: 20216, dtype: object"
      ]
     },
     "execution_count": 28,
     "metadata": {},
     "output_type": "execute_result"
    }
   ],
   "source": [
    "df = pd.read_csv(\"/Users/dear/Data Science/Project/Data-Sci-project/results/data_formatted_subjectAreas.csv\")\n",
    "df[\"Processed Words\"]"
   ]
  }
 ],
 "metadata": {
  "kernelspec": {
   "display_name": "Python 3",
   "language": "python",
   "name": "python3"
  },
  "language_info": {
   "codemirror_mode": {
    "name": "ipython",
    "version": 3
   },
   "file_extension": ".py",
   "mimetype": "text/x-python",
   "name": "python",
   "nbconvert_exporter": "python",
   "pygments_lexer": "ipython3",
   "version": "3.9.6"
  }
 },
 "nbformat": 4,
 "nbformat_minor": 2
}
